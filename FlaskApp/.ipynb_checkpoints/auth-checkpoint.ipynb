{
 "cells": [
  {
   "cell_type": "code",
   "execution_count": 2,
   "metadata": {},
   "outputs": [],
   "source": [
    "import requests\n",
    "import json\n",
    "import io\n",
    "import sport_api\n",
    "import fantasy_logic\n",
    "import parse_class\n",
    "import re\n",
    "import numpy as np\n",
    "import pandas as pd\n",
    "import matplotlib.pyplot as plt\n",
    "import os\n",
    "from robobrowser import RoboBrowser\n",
    "import sport_fantasy as sf\n",
    "import urllib.parse\n",
    "%matplotlib inline\n",
    "%config InlineBackend.figure_format = 'retina'\n",
    "pd.set_option(\"max_rows\", 600)\n",
    "pd.set_option(\"max_columns\", 200)\n",
    "pd.set_option(\"max_colwidth\", 400)\n",
    "\n",
    "%load_ext autoreload\n",
    "%autoreload 2"
   ]
  },
  {
   "cell_type": "raw",
   "metadata": {},
   "source": [
    "@FormUrlEncoded\n",
    "    @POST(\"/ajax/user/authorization.html\")\n",
    "    Observable<LoginData> authorize(@Field(\"login\") String str, @Field(\"password\") String str2, @Field(\"remember_me\") String str3);\n"
   ]
  },
  {
   "cell_type": "code",
   "execution_count": 14,
   "metadata": {},
   "outputs": [
    {
     "name": "stdout",
     "output_type": "stream",
     "text": [
      "?args=%7B%27login%27%3A+%27d.utiralov%40gmail.com%27%2C+%27password%27%3A+%27f9c0951393%27%2C+%27remember_me%27%3A+%27on%27%7D\n",
      "https://www.sports.ru/ajax/user/authorization.html\n",
      "<Response [404]>\n"
     ]
    },
    {
     "data": {
      "text/plain": [
       "'{\"status\":\"success\",\"data\":{\"isModerator\":false,\"user_id\":0}}'"
      ]
     },
     "execution_count": 14,
     "metadata": {},
     "output_type": "execute_result"
    }
   ],
   "source": [
    "def read_params(fn): \n",
    "    d ={} \n",
    "    try:\n",
    "        with open(fn, 'r',encoding=\"utf-8\") as file: \n",
    "            d = json.load(file) \n",
    "    except FileNotFoundError:\n",
    "        print (\"Error. Can't find file \" + fn)\n",
    "        d = {}\n",
    "    return d\n",
    "settings =  read_params('settings.json')\n",
    "sports = sport_api.sportsApiMethods(settings)\n",
    "x = {\"login\":\"d.utiralov@gmail.com\",\"password\":\"f9c0951393\",\"back_url\":\"/feed/\",\"g-recaptcha-response\":\"03AOLTBLQ8DJRLgGDrHJen6OR7ncv4ijfJjwGtR4xOZvVZOj3gVB_jTSA4DDg7nPvEigN7vzPTJDY6hrau5z89faLVlHQ_wQoCVmuyZ8zmANzk2cOdASpT7ZV2aS--Fq8G4wEoEfCuqAvzDHcaO3ZP8QMsyusA5rxoGpJ2VaJum3XBf7dc6nPYa2LYOmt5Jd9oWppuBb2DeODlkrNkerNMl4HdkpgjjALPforR1eh_Mu7c27egExMnYmhTlC5zzC4bTgu8Dxfdtny2DGIfMFcQCdnqiTnui4NcVAF82WwZo7BPEyyH9xHPZljQwl64rTIqDODWbpJu-xPZ5vlehwpkinmEO2Rbgf61PIWvtMY0aMLGcz-YWnivCpK2ujH4Z1Ud-BRT1MRT2ekCw1t7JVM3Wk8g682pIwuNIRHBN09bLYZ3nK9BnstvRNgxwTOO7lN8bjQJgNZUwtwebUzU3TVPgrpEZHeStXfj_dwR4OO5UuSPFp7mg_p0SqdokSOslsSkyMZ816xVrBLQ\",\"join\":1}\n",
    "t = urllib.parse.quote_plus(str(x), encoding=\"UTF-8\")\n",
    "#print(params)\n",
    "params = {\"login\":settings[\"fantasy_settings\"][\"login\"], \n",
    "          \"password\":settings[\"fantasy_settings\"][\"password\"],\n",
    "          \"remember_me\":\"on\"\n",
    "         }\n",
    "\n",
    "\n",
    "params2 = \"?args=\"+ urllib.parse.quote_plus(str(params))\n",
    "print(params2)\n",
    "url2 = settings[\"fantasy_settings\"][\"url_login\"]\n",
    "url = settings[\"sport_api\"][\"url_auth\"]\n",
    "url3 = settings[\"sport_api\"][\"url_auth_mobile\"] #\"/ajax/user/authorization.html\",\n",
    "headers = {'Content-Type': 'application/json', \"User-Agent\":\"Mozilla/5.0 (compatible; MSIE 9.0; Windows Phone OS 7.5; Trident/5.0; IEMobile/9.0)\"}\n",
    "session = requests.Session() \n",
    "print(url3)\n",
    "#headers = {'Content-Type': 'application/json'}\n",
    "x = session.post(url3, data = json.dumps(params), headers=headers)\n",
    "print(x)\n",
    "session.get(settings[\"sport_api\"][\"url_fantasy_menu\"]).text\n",
    "\n",
    "#https://www.google.com/recaptcha/api.js?onload=SportsGrecaptchaLoaded&render=explicit"
   ]
  },
  {
   "cell_type": "code",
   "execution_count": 58,
   "metadata": {},
   "outputs": [
    {
     "data": {
      "text/plain": [
       "330343"
      ]
     },
     "execution_count": 58,
     "metadata": {},
     "output_type": "execute_result"
    }
   ],
   "source": [
    "txt = session.get(\"https://www.sports.ru/logon.html\").text\n",
    "f= open(\"test.html\",\"w+\")\n",
    "f.write(txt)"
   ]
  },
  {
   "cell_type": "code",
   "execution_count": 21,
   "metadata": {},
   "outputs": [],
   "source": [
    "import requests\n",
    "from bs4 import BeautifulSoup"
   ]
  },
  {
   "cell_type": "code",
   "execution_count": 22,
   "metadata": {},
   "outputs": [],
   "source": [
    "resp = requests.get(\"https://www.sports.ru/logon.html\")\n",
    " \n",
    "soup = BeautifulSoup(resp.content)\n",
    " \n",
    "# get links\n",
    "links = soup.find_all(\"a\")\n",
    " \n",
    "# get urls\n",
    "urls = [link.get(\"href\") for link in links]"
   ]
  },
  {
   "cell_type": "code",
   "execution_count": 23,
   "metadata": {},
   "outputs": [
    {
     "data": {
      "text/plain": [
       "[<input autocomplete=\"off\" class=\"search-block__input\" data-v-1fd8dc84=\"\" name=\"query\" placeholder=\"Луис Суарес\" type=\"text\"/>,\n",
       " <input class=\"auth__login-input auth__login-input_email input input_size_extra-large\" name=\"login\" placeholder=\"Ваш e-mail\" type=\"text\"/>,\n",
       " <input class=\"auth__login-input input input_size_extra-large\" name=\"password\" placeholder=\"Ваш пароль\" type=\"password\"/>,\n",
       " <input name=\"back_url\" type=\"hidden\" value=\"/feed/\"/>]"
      ]
     },
     "execution_count": 23,
     "metadata": {},
     "output_type": "execute_result"
    }
   ],
   "source": [
    "# find all div tags\n",
    "soup.find_all(\"input\")"
   ]
  },
  {
   "cell_type": "code",
   "execution_count": 24,
   "metadata": {},
   "outputs": [],
   "source": [
    "browser = RoboBrowser(history=True)\n",
    "browser.open(\"https://www.sports.ru/logon.html\")\n",
    "form = browser.get_forms()[1]\n",
    "form['login'].value = \"rhj4\" \n",
    "form['password'].value = \"wg33h\"\n",
    "x2 = browser.submit_form(form)"
   ]
  },
  {
   "cell_type": "code",
   "execution_count": 25,
   "metadata": {},
   "outputs": [
    {
     "data": {
      "text/plain": [
       "<RoboForm login=, password=, back_url=/feed/>"
      ]
     },
     "execution_count": 25,
     "metadata": {},
     "output_type": "execute_result"
    }
   ],
   "source": [
    "browser.get_forms()[1]"
   ]
  },
  {
   "cell_type": "code",
   "execution_count": 26,
   "metadata": {},
   "outputs": [],
   "source": [
    "x = browser.session.get(\"https://www.sports.ru/login\")"
   ]
  },
  {
   "cell_type": "code",
   "execution_count": 29,
   "metadata": {},
   "outputs": [
    {
     "data": {
      "text/plain": [
       "[]"
      ]
     },
     "execution_count": 29,
     "metadata": {},
     "output_type": "execute_result"
    }
   ],
   "source": [
    "soup = BeautifulSoup(str(browser.parsed))\n",
    " \n",
    "# get links\n",
    "links = soup.find_all(\"a\")\n",
    " \n",
    "# get urls\n",
    "urls = [link.get(\"href\") for link in links]\n",
    "#soup.find_all(\"href\")"
   ]
  }
 ],
 "metadata": {
  "kernelspec": {
   "display_name": "Python 3",
   "language": "python",
   "name": "python3"
  },
  "language_info": {
   "codemirror_mode": {
    "name": "ipython",
    "version": 3
   },
   "file_extension": ".py",
   "mimetype": "text/x-python",
   "name": "python",
   "nbconvert_exporter": "python",
   "pygments_lexer": "ipython3",
   "version": "3.7.4"
  }
 },
 "nbformat": 4,
 "nbformat_minor": 4
}
